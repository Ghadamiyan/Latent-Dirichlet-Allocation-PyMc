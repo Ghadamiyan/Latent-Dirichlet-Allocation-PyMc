{
  "nbformat": 4,
  "nbformat_minor": 0,
  "metadata": {
    "colab": {
      "name": "ProiectPP_ sanity check_.ipynb",
      "provenance": [],
      "collapsed_sections": []
    },
    "kernelspec": {
      "name": "python3",
      "display_name": "Python 3"
    }
  },
  "cells": [
    {
      "cell_type": "markdown",
      "metadata": {
        "id": "4SlL29H14f0r"
      },
      "source": [
        "# **Sanity check**\r\n",
        "\r\n",
        "---\r\n",
        "\r\n",
        "\r\n",
        "\r\n"
      ]
    },
    {
      "cell_type": "code",
      "metadata": {
        "id": "2nteP24iB7Gy",
        "colab": {
          "base_uri": "https://localhost:8080/"
        },
        "outputId": "445034d7-3827-4bad-ac70-84e0eb2be4f0"
      },
      "source": [
        "!pip install pymc"
      ],
      "execution_count": 1,
      "outputs": [
        {
          "output_type": "stream",
          "text": [
            "Requirement already satisfied: pymc in /usr/local/lib/python3.6/dist-packages (2.3.8)\n"
          ],
          "name": "stdout"
        }
      ]
    },
    {
      "cell_type": "code",
      "metadata": {
        "id": "lE7_rVsY2OD0"
      },
      "source": [
        "sanity_check = [[0, 1, 0], [1, 0, 1], [0, 1, 1, 0], [2, 3], [2, 3, 3], [2, 3, 3, 2]]\r\n",
        "\r\n",
        "data = sanity_check"
      ],
      "execution_count": 2,
      "outputs": []
    },
    {
      "cell_type": "code",
      "metadata": {
        "colab": {
          "base_uri": "https://localhost:8080/"
        },
        "id": "rrSpaYHiHkat",
        "outputId": "f479f931-a4ed-4102-cdb4-04ba20a1fe78"
      },
      "source": [
        "import pymc as pm\r\n",
        "import numpy as np\r\n",
        "\r\n",
        "nr_topics = 2  \r\n",
        "vocab_size = 4\r\n",
        "corpus_size = len(data)\r\n",
        "\r\n",
        "alpha = np.ones(nr_topics)*0.5\r\n",
        "beta = np.ones(vocab_size)*0.5\r\n",
        "Nm = [len(doc) for doc in data]\r\n",
        "\r\n",
        "phi_ = pm.Container([pm.Dirichlet(\"phi_ %s\" % topic, theta = beta) for topic in range(nr_topics)])\r\n",
        "\r\n",
        "phi = pm.Container( [pm.CompletedDirichlet(\"Phi %s\" % topic,  phi_[topic])  for topic in range(nr_topics)] ) #word distribution per topic\r\n",
        "\r\n",
        "theta_ = pm.Container([pm.Dirichlet(\"theta_ %s\" % doc, theta = alpha) for doc in range(corpus_size)])\r\n",
        "\r\n",
        "theta = pm.Container([pm.CompletedDirichlet(\"Theta %s\" % doc, theta_[doc]) for doc in range(corpus_size)])    # topic distribution per docs\r\n",
        "\r\n",
        "\r\n",
        "z = pm.Container([pm.Categorical('Z %i' % doc,       # topic for word per docs\r\n",
        "                             p = theta[doc], \r\n",
        "                             size = Nm[doc],\r\n",
        "                             value = np.random.randint(nr_topics, size = Nm[doc]))\r\n",
        "                for doc in range(corpus_size)])\r\n",
        "\r\n",
        "\r\n",
        "w = pm.Container([pm.Categorical(\"W %i %i\" % (doc, word),     # the word from doc\r\n",
        "                                p = pm.Lambda('Phi Z %i %i' % (doc, word), \r\n",
        "                                             lambda z = z[doc][word], \r\n",
        "                                             phi = phi: phi[z]),\r\n",
        "                                value = data[doc][word], \r\n",
        "                                observed = True)\r\n",
        "                for doc in range(corpus_size)\r\n",
        "                for word in range(Nm[doc]) ])\r\n",
        "\r\n",
        "\r\n",
        "model = pm.Model([phi_, theta_, theta, phi, z, w])\r\n",
        "\r\n",
        "map_ = pm.MAP(model) # improving convergence\r\n",
        "map_.fit()\r\n",
        "\r\n",
        "mcmc = pm.MCMC(model)    # fitting\r\n",
        "tr = mcmc.sample(10000, 4000)\r\n"
      ],
      "execution_count": 3,
      "outputs": [
        {
          "output_type": "stream",
          "text": [
            "/usr/local/lib/python3.6/dist-packages/statsmodels/tools/_testing.py:19: FutureWarning: pandas.util.testing is deprecated. Use the functions in the public API at pandas.testing instead.\n",
            "  import pandas.util.testing as tm\n"
          ],
          "name": "stderr"
        },
        {
          "output_type": "stream",
          "text": [
            "Warning: Stochastic Z 2's value is neither numerical nor array with floating-point dtype. Recommend fitting method fmin (default).\n",
            "Warning: Stochastic Z 3's value is neither numerical nor array with floating-point dtype. Recommend fitting method fmin (default).\n",
            "Warning: Stochastic Z 4's value is neither numerical nor array with floating-point dtype. Recommend fitting method fmin (default).\n",
            "Warning: Stochastic Z 1's value is neither numerical nor array with floating-point dtype. Recommend fitting method fmin (default).\n",
            "Warning: Stochastic Z 5's value is neither numerical nor array with floating-point dtype. Recommend fitting method fmin (default).\n",
            "Warning: Stochastic Z 0's value is neither numerical nor array with floating-point dtype. Recommend fitting method fmin (default).\n"
          ],
          "name": "stdout"
        },
        {
          "output_type": "stream",
          "text": [
            "/usr/local/lib/python3.6/dist-packages/pymc/MCMC.py:81: UserWarning: Instantiating a Model object directly is deprecated. We recommend passing variables directly to the Model subclass.\n",
            "  warnings.warn(message)\n"
          ],
          "name": "stderr"
        },
        {
          "output_type": "stream",
          "text": [
            " [-----------------100%-----------------] 10000 of 10000 complete in 23.8 sec"
          ],
          "name": "stdout"
        }
      ]
    },
    {
      "cell_type": "code",
      "metadata": {
        "colab": {
          "base_uri": "https://localhost:8080/"
        },
        "id": "tWrkm4fXyjBr",
        "outputId": "8fe847cf-350a-48a2-afea-fd62d53f6c38"
      },
      "source": [
        "print('Topic distribution for each word:\\n')\r\n",
        "for doc in range(corpus_size):  # topic distribution per word per document\r\n",
        "    print(mcmc.trace('Z %i' % doc)[0]) "
      ],
      "execution_count": 4,
      "outputs": [
        {
          "output_type": "stream",
          "text": [
            "Topic distribution for each word:\n",
            "\n",
            "[0 0 0]\n",
            "[0 0 0]\n",
            "[0 0 0 0]\n",
            "[1 1]\n",
            "[1 1 1]\n",
            "[1 1 1 1]\n"
          ],
          "name": "stdout"
        }
      ]
    }
  ]
}